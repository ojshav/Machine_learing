{
 "cells": [
  {
   "cell_type": "markdown",
   "id": "39b98048",
   "metadata": {},
   "source": [
    "### This data depend upon amount of money spend on advertisement through tv,radio and newspaper the goal is to predict how the reach of each channel effect the sale and is there a way to optimize the sale\n"
   ]
  },
  {
   "cell_type": "code",
   "execution_count": 1,
   "id": "9430a022",
   "metadata": {},
   "outputs": [],
   "source": [
    "import numpy as np\n",
    "import pandas as pd\n",
    "import random\n",
    "from matplotlib import pyplot as plt\n",
    "import seaborn as sns\n",
    "import sklearn\n",
    "import math    "
   ]
  },
  {
   "cell_type": "markdown",
   "id": "902e1a56",
   "metadata": {},
   "source": [
    "### Importing csv file data"
   ]
  },
  {
   "cell_type": "code",
   "execution_count": 2,
   "id": "059e891a",
   "metadata": {},
   "outputs": [
    {
     "data": {
      "text/html": [
       "<div>\n",
       "<style scoped>\n",
       "    .dataframe tbody tr th:only-of-type {\n",
       "        vertical-align: middle;\n",
       "    }\n",
       "\n",
       "    .dataframe tbody tr th {\n",
       "        vertical-align: top;\n",
       "    }\n",
       "\n",
       "    .dataframe thead th {\n",
       "        text-align: right;\n",
       "    }\n",
       "</style>\n",
       "<table border=\"1\" class=\"dataframe\">\n",
       "  <thead>\n",
       "    <tr style=\"text-align: right;\">\n",
       "      <th></th>\n",
       "      <th>Unnamed: 0</th>\n",
       "      <th>TV</th>\n",
       "      <th>radio</th>\n",
       "      <th>newspaper</th>\n",
       "      <th>sales</th>\n",
       "    </tr>\n",
       "  </thead>\n",
       "  <tbody>\n",
       "    <tr>\n",
       "      <th>0</th>\n",
       "      <td>1</td>\n",
       "      <td>230.1</td>\n",
       "      <td>37.8</td>\n",
       "      <td>69.2</td>\n",
       "      <td>22.1</td>\n",
       "    </tr>\n",
       "    <tr>\n",
       "      <th>1</th>\n",
       "      <td>2</td>\n",
       "      <td>44.5</td>\n",
       "      <td>39.3</td>\n",
       "      <td>45.1</td>\n",
       "      <td>10.4</td>\n",
       "    </tr>\n",
       "    <tr>\n",
       "      <th>2</th>\n",
       "      <td>3</td>\n",
       "      <td>17.2</td>\n",
       "      <td>45.9</td>\n",
       "      <td>69.3</td>\n",
       "      <td>9.3</td>\n",
       "    </tr>\n",
       "    <tr>\n",
       "      <th>3</th>\n",
       "      <td>4</td>\n",
       "      <td>151.5</td>\n",
       "      <td>41.3</td>\n",
       "      <td>58.5</td>\n",
       "      <td>18.5</td>\n",
       "    </tr>\n",
       "    <tr>\n",
       "      <th>4</th>\n",
       "      <td>5</td>\n",
       "      <td>180.8</td>\n",
       "      <td>10.8</td>\n",
       "      <td>58.4</td>\n",
       "      <td>12.9</td>\n",
       "    </tr>\n",
       "    <tr>\n",
       "      <th>...</th>\n",
       "      <td>...</td>\n",
       "      <td>...</td>\n",
       "      <td>...</td>\n",
       "      <td>...</td>\n",
       "      <td>...</td>\n",
       "    </tr>\n",
       "    <tr>\n",
       "      <th>195</th>\n",
       "      <td>196</td>\n",
       "      <td>38.2</td>\n",
       "      <td>3.7</td>\n",
       "      <td>13.8</td>\n",
       "      <td>7.6</td>\n",
       "    </tr>\n",
       "    <tr>\n",
       "      <th>196</th>\n",
       "      <td>197</td>\n",
       "      <td>94.2</td>\n",
       "      <td>4.9</td>\n",
       "      <td>8.1</td>\n",
       "      <td>9.7</td>\n",
       "    </tr>\n",
       "    <tr>\n",
       "      <th>197</th>\n",
       "      <td>198</td>\n",
       "      <td>177.0</td>\n",
       "      <td>9.3</td>\n",
       "      <td>6.4</td>\n",
       "      <td>12.8</td>\n",
       "    </tr>\n",
       "    <tr>\n",
       "      <th>198</th>\n",
       "      <td>199</td>\n",
       "      <td>283.6</td>\n",
       "      <td>42.0</td>\n",
       "      <td>66.2</td>\n",
       "      <td>25.5</td>\n",
       "    </tr>\n",
       "    <tr>\n",
       "      <th>199</th>\n",
       "      <td>200</td>\n",
       "      <td>232.1</td>\n",
       "      <td>8.6</td>\n",
       "      <td>8.7</td>\n",
       "      <td>13.4</td>\n",
       "    </tr>\n",
       "  </tbody>\n",
       "</table>\n",
       "<p>200 rows × 5 columns</p>\n",
       "</div>"
      ],
      "text/plain": [
       "     Unnamed: 0     TV  radio  newspaper  sales\n",
       "0             1  230.1   37.8       69.2   22.1\n",
       "1             2   44.5   39.3       45.1   10.4\n",
       "2             3   17.2   45.9       69.3    9.3\n",
       "3             4  151.5   41.3       58.5   18.5\n",
       "4             5  180.8   10.8       58.4   12.9\n",
       "..          ...    ...    ...        ...    ...\n",
       "195         196   38.2    3.7       13.8    7.6\n",
       "196         197   94.2    4.9        8.1    9.7\n",
       "197         198  177.0    9.3        6.4   12.8\n",
       "198         199  283.6   42.0       66.2   25.5\n",
       "199         200  232.1    8.6        8.7   13.4\n",
       "\n",
       "[200 rows x 5 columns]"
      ]
     },
     "execution_count": 2,
     "metadata": {},
     "output_type": "execute_result"
    }
   ],
   "source": [
    "data = pd.read_csv(\"D:\\coding\\python projects\\Experiment_1\\Advertising.csv\")\n",
    "data\n",
    "    "
   ]
  },
  {
   "cell_type": "markdown",
   "id": "78999ef5",
   "metadata": {},
   "source": [
    "### first five rows of data"
   ]
  },
  {
   "cell_type": "code",
   "execution_count": 3,
   "id": "537a4383",
   "metadata": {},
   "outputs": [
    {
     "data": {
      "text/html": [
       "<div>\n",
       "<style scoped>\n",
       "    .dataframe tbody tr th:only-of-type {\n",
       "        vertical-align: middle;\n",
       "    }\n",
       "\n",
       "    .dataframe tbody tr th {\n",
       "        vertical-align: top;\n",
       "    }\n",
       "\n",
       "    .dataframe thead th {\n",
       "        text-align: right;\n",
       "    }\n",
       "</style>\n",
       "<table border=\"1\" class=\"dataframe\">\n",
       "  <thead>\n",
       "    <tr style=\"text-align: right;\">\n",
       "      <th></th>\n",
       "      <th>Unnamed: 0</th>\n",
       "      <th>TV</th>\n",
       "      <th>radio</th>\n",
       "      <th>newspaper</th>\n",
       "      <th>sales</th>\n",
       "    </tr>\n",
       "  </thead>\n",
       "  <tbody>\n",
       "    <tr>\n",
       "      <th>0</th>\n",
       "      <td>1</td>\n",
       "      <td>230.1</td>\n",
       "      <td>37.8</td>\n",
       "      <td>69.2</td>\n",
       "      <td>22.1</td>\n",
       "    </tr>\n",
       "    <tr>\n",
       "      <th>1</th>\n",
       "      <td>2</td>\n",
       "      <td>44.5</td>\n",
       "      <td>39.3</td>\n",
       "      <td>45.1</td>\n",
       "      <td>10.4</td>\n",
       "    </tr>\n",
       "    <tr>\n",
       "      <th>2</th>\n",
       "      <td>3</td>\n",
       "      <td>17.2</td>\n",
       "      <td>45.9</td>\n",
       "      <td>69.3</td>\n",
       "      <td>9.3</td>\n",
       "    </tr>\n",
       "    <tr>\n",
       "      <th>3</th>\n",
       "      <td>4</td>\n",
       "      <td>151.5</td>\n",
       "      <td>41.3</td>\n",
       "      <td>58.5</td>\n",
       "      <td>18.5</td>\n",
       "    </tr>\n",
       "    <tr>\n",
       "      <th>4</th>\n",
       "      <td>5</td>\n",
       "      <td>180.8</td>\n",
       "      <td>10.8</td>\n",
       "      <td>58.4</td>\n",
       "      <td>12.9</td>\n",
       "    </tr>\n",
       "  </tbody>\n",
       "</table>\n",
       "</div>"
      ],
      "text/plain": [
       "   Unnamed: 0     TV  radio  newspaper  sales\n",
       "0           1  230.1   37.8       69.2   22.1\n",
       "1           2   44.5   39.3       45.1   10.4\n",
       "2           3   17.2   45.9       69.3    9.3\n",
       "3           4  151.5   41.3       58.5   18.5\n",
       "4           5  180.8   10.8       58.4   12.9"
      ]
     },
     "execution_count": 3,
     "metadata": {},
     "output_type": "execute_result"
    }
   ],
   "source": [
    "data.head()"
   ]
  },
  {
   "cell_type": "markdown",
   "id": "6e8a59b7",
   "metadata": {},
   "source": [
    "### tell shape of data"
   ]
  },
  {
   "cell_type": "code",
   "execution_count": 4,
   "id": "d8abdbb0",
   "metadata": {},
   "outputs": [
    {
     "data": {
      "text/plain": [
       "(200, 5)"
      ]
     },
     "execution_count": 4,
     "metadata": {},
     "output_type": "execute_result"
    }
   ],
   "source": [
    "data.shape"
   ]
  },
  {
   "cell_type": "markdown",
   "id": "53fd6767",
   "metadata": {},
   "source": [
    "### give information of data"
   ]
  },
  {
   "cell_type": "code",
   "execution_count": 5,
   "id": "0869bb53",
   "metadata": {},
   "outputs": [
    {
     "name": "stdout",
     "output_type": "stream",
     "text": [
      "<class 'pandas.core.frame.DataFrame'>\n",
      "RangeIndex: 200 entries, 0 to 199\n",
      "Data columns (total 5 columns):\n",
      " #   Column      Non-Null Count  Dtype  \n",
      "---  ------      --------------  -----  \n",
      " 0   Unnamed: 0  200 non-null    int64  \n",
      " 1   TV          200 non-null    float64\n",
      " 2   radio       200 non-null    float64\n",
      " 3   newspaper   200 non-null    float64\n",
      " 4   sales       200 non-null    float64\n",
      "dtypes: float64(4), int64(1)\n",
      "memory usage: 7.9 KB\n"
     ]
    }
   ],
   "source": [
    "data.info()"
   ]
  },
  {
   "cell_type": "markdown",
   "id": "15fa65ec",
   "metadata": {},
   "source": [
    "### describe data"
   ]
  },
  {
   "cell_type": "code",
   "execution_count": 6,
   "id": "94123687",
   "metadata": {},
   "outputs": [
    {
     "data": {
      "text/html": [
       "<div>\n",
       "<style scoped>\n",
       "    .dataframe tbody tr th:only-of-type {\n",
       "        vertical-align: middle;\n",
       "    }\n",
       "\n",
       "    .dataframe tbody tr th {\n",
       "        vertical-align: top;\n",
       "    }\n",
       "\n",
       "    .dataframe thead th {\n",
       "        text-align: right;\n",
       "    }\n",
       "</style>\n",
       "<table border=\"1\" class=\"dataframe\">\n",
       "  <thead>\n",
       "    <tr style=\"text-align: right;\">\n",
       "      <th></th>\n",
       "      <th>Unnamed: 0</th>\n",
       "      <th>TV</th>\n",
       "      <th>radio</th>\n",
       "      <th>newspaper</th>\n",
       "      <th>sales</th>\n",
       "    </tr>\n",
       "  </thead>\n",
       "  <tbody>\n",
       "    <tr>\n",
       "      <th>count</th>\n",
       "      <td>200.000000</td>\n",
       "      <td>200.000000</td>\n",
       "      <td>200.000000</td>\n",
       "      <td>200.000000</td>\n",
       "      <td>200.000000</td>\n",
       "    </tr>\n",
       "    <tr>\n",
       "      <th>mean</th>\n",
       "      <td>100.500000</td>\n",
       "      <td>147.042500</td>\n",
       "      <td>23.264000</td>\n",
       "      <td>30.554000</td>\n",
       "      <td>14.022500</td>\n",
       "    </tr>\n",
       "    <tr>\n",
       "      <th>std</th>\n",
       "      <td>57.879185</td>\n",
       "      <td>85.854236</td>\n",
       "      <td>14.846809</td>\n",
       "      <td>21.778621</td>\n",
       "      <td>5.217457</td>\n",
       "    </tr>\n",
       "    <tr>\n",
       "      <th>min</th>\n",
       "      <td>1.000000</td>\n",
       "      <td>0.700000</td>\n",
       "      <td>0.000000</td>\n",
       "      <td>0.300000</td>\n",
       "      <td>1.600000</td>\n",
       "    </tr>\n",
       "    <tr>\n",
       "      <th>25%</th>\n",
       "      <td>50.750000</td>\n",
       "      <td>74.375000</td>\n",
       "      <td>9.975000</td>\n",
       "      <td>12.750000</td>\n",
       "      <td>10.375000</td>\n",
       "    </tr>\n",
       "    <tr>\n",
       "      <th>50%</th>\n",
       "      <td>100.500000</td>\n",
       "      <td>149.750000</td>\n",
       "      <td>22.900000</td>\n",
       "      <td>25.750000</td>\n",
       "      <td>12.900000</td>\n",
       "    </tr>\n",
       "    <tr>\n",
       "      <th>75%</th>\n",
       "      <td>150.250000</td>\n",
       "      <td>218.825000</td>\n",
       "      <td>36.525000</td>\n",
       "      <td>45.100000</td>\n",
       "      <td>17.400000</td>\n",
       "    </tr>\n",
       "    <tr>\n",
       "      <th>max</th>\n",
       "      <td>200.000000</td>\n",
       "      <td>296.400000</td>\n",
       "      <td>49.600000</td>\n",
       "      <td>114.000000</td>\n",
       "      <td>27.000000</td>\n",
       "    </tr>\n",
       "  </tbody>\n",
       "</table>\n",
       "</div>"
      ],
      "text/plain": [
       "       Unnamed: 0          TV       radio   newspaper       sales\n",
       "count  200.000000  200.000000  200.000000  200.000000  200.000000\n",
       "mean   100.500000  147.042500   23.264000   30.554000   14.022500\n",
       "std     57.879185   85.854236   14.846809   21.778621    5.217457\n",
       "min      1.000000    0.700000    0.000000    0.300000    1.600000\n",
       "25%     50.750000   74.375000    9.975000   12.750000   10.375000\n",
       "50%    100.500000  149.750000   22.900000   25.750000   12.900000\n",
       "75%    150.250000  218.825000   36.525000   45.100000   17.400000\n",
       "max    200.000000  296.400000   49.600000  114.000000   27.000000"
      ]
     },
     "execution_count": 6,
     "metadata": {},
     "output_type": "execute_result"
    }
   ],
   "source": [
    "data.describe()"
   ]
  },
  {
   "cell_type": "code",
   "execution_count": 7,
   "id": "4953bd41",
   "metadata": {},
   "outputs": [
    {
     "data": {
      "text/plain": [
       "Unnamed: 0    0\n",
       "TV            0\n",
       "radio         0\n",
       "newspaper     0\n",
       "sales         0\n",
       "dtype: int64"
      ]
     },
     "execution_count": 7,
     "metadata": {},
     "output_type": "execute_result"
    }
   ],
   "source": [
    "data.isna().sum()"
   ]
  },
  {
   "cell_type": "markdown",
   "id": "be424088",
   "metadata": {},
   "source": [
    "### identifying outliers"
   ]
  },
  {
   "cell_type": "code",
   "execution_count": 30,
   "id": "5ff42fcf",
   "metadata": {},
   "outputs": [
    {
     "data": {
      "image/png": "[encoded data removed]",
      "text/plain": [
       "<Figure size 500x500 with 3 Axes>"
      ]
     },
     "metadata": {},
     "output_type": "display_data"
    }
   ],
   "source": [
    "import warnings\n",
    "\n",
    "with warnings.catch_warnings(record=True):\n",
    "    \n",
    "\n",
    "    fig,axs = plt.subplots(3, figsize=(5,5))\n",
    "    plt1 = sns.boxplot(data['TV'],ax=axs[0])\n",
    "    plt2 = sns.boxplot(data['newspaper'],ax=axs[2])\n",
    "    plt3 = sns.boxplot(data['radio'],ax=axs[1])\n",
    "    plt.tight_layout()\n",
    "    plt.savefig('outlier_fig')"
   ]
  },
  {
   "cell_type": "markdown",
   "id": "65801529",
   "metadata": {},
   "source": [
    "### scatter plot"
   ]
  },
  {
   "cell_type": "code",
   "execution_count": 31,
   "id": "93c680e4",
   "metadata": {},
   "outputs": [
    {
     "data": {
      "image/png": "[encoded data removed]",
      "text/plain": [
       "<Figure size 1200x600 with 3 Axes>"
      ]
     },
     "metadata": {},
     "output_type": "display_data"
    }
   ],
   "source": [
    "fig,axs=plt.subplots(1,3)\n",
    "data.plot(kind=\"scatter\", x=\"TV\", y=\"sales\", color=\"orange\", ax=axs[0],figsize=(12,6))\n",
    "data.plot(kind=\"scatter\", x=\"radio\", y=\"sales\", color=\"blue\", ax=axs[1],figsize=(12,6))\n",
    "data.plot(kind=\"scatter\", x=\"newspaper\", y=\"sales\", color=\"green\", ax=axs[2],figsize=(12,6))\n",
    "plt.show()"
   ]
  },
  {
   "cell_type": "markdown",
   "id": "6ea0a36d",
   "metadata": {},
   "source": [
    "## linear regression model for tv"
   ]
  },
  {
   "cell_type": "code",
   "execution_count": 32,
   "id": "2372c583",
   "metadata": {},
   "outputs": [
    {
     "data": {
      "text/plain": [
       "LinearRegression()"
      ]
     },
     "execution_count": 32,
     "metadata": {},
     "output_type": "execute_result"
    }
   ],
   "source": [
    "X= data[['TV']]\n",
    "y = data.sales\n",
    "from sklearn.linear_model import LinearRegression\n",
    "lm = LinearRegression()\n",
    "lm.fit(X,y)"
   ]
  },
  {
   "cell_type": "markdown",
   "id": "288296b3",
   "metadata": {},
   "source": [
    "### Finding intercept and coefficent"
   ]
  },
  {
   "cell_type": "code",
   "execution_count": 33,
   "id": "db3462d9",
   "metadata": {},
   "outputs": [
    {
     "name": "stdout",
     "output_type": "stream",
     "text": [
      "7.032593549127693\n",
      "[0.04753664]\n"
     ]
    }
   ],
   "source": [
    "print(lm.intercept_)\n",
    "print(lm.coef_)"
   ]
  },
  {
   "cell_type": "markdown",
   "id": "491ece1f",
   "metadata": {},
   "source": [
    "### sales = 0.047X + 7.03"
   ]
  },
  {
   "cell_type": "code",
   "execution_count": 34,
   "id": "47876124",
   "metadata": {},
   "outputs": [
    {
     "data": {
      "text/plain": [
       "array([9.40942557])"
      ]
     },
     "execution_count": 34,
     "metadata": {},
     "output_type": "execute_result"
    }
   ],
   "source": [
    "%%capture --no-display\n",
    "lm.predict([[50]])"
   ]
  },
  {
   "cell_type": "markdown",
   "id": "ba074ad9",
   "metadata": {},
   "source": [
    "### R2_score"
   ]
  },
  {
   "cell_type": "code",
   "execution_count": 35,
   "id": "684a0750",
   "metadata": {},
   "outputs": [
    {
     "data": {
      "text/plain": [
       "0.611875050850071"
      ]
     },
     "execution_count": 35,
     "metadata": {},
     "output_type": "execute_result"
    }
   ],
   "source": [
    "from sklearn.metrics import r2_score\n",
    "z= lm.predict(X)\n",
    "r2_score(y_true=y,y_pred=z)"
   ]
  },
  {
   "cell_type": "markdown",
   "id": "29ad1f2d",
   "metadata": {},
   "source": [
    "### mean absolute error"
   ]
  },
  {
   "cell_type": "code",
   "execution_count": 36,
   "id": "c18f3c2a",
   "metadata": {},
   "outputs": [
    {
     "data": {
      "text/plain": [
       "2.549806038927486"
      ]
     },
     "execution_count": 36,
     "metadata": {},
     "output_type": "execute_result"
    }
   ],
   "source": [
    "from sklearn.metrics import mean_absolute_error\n",
    "m= lm.predict(X)\n",
    "mean_absolute_error(y_true=y,y_pred=m)"
   ]
  },
  {
   "cell_type": "markdown",
   "id": "832e54fb",
   "metadata": {},
   "source": [
    "### mean square absolute error"
   ]
  },
  {
   "cell_type": "code",
   "execution_count": 37,
   "id": "14f1aa32",
   "metadata": {},
   "outputs": [
    {
     "data": {
      "text/plain": [
       "10.512652915656757"
      ]
     },
     "execution_count": 37,
     "metadata": {},
     "output_type": "execute_result"
    }
   ],
   "source": [
    "from sklearn.metrics import mean_squared_error\n",
    "ms= lm.predict(X)\n",
    "mean_squared_error(y_true=y,y_pred=ms)"
   ]
  },
  {
   "cell_type": "markdown",
   "id": "ebd81932",
   "metadata": {},
   "source": [
    "### root mean square"
   ]
  },
  {
   "cell_type": "code",
   "execution_count": 38,
   "id": "35b57113",
   "metadata": {},
   "outputs": [
    {
     "data": {
      "text/plain": [
       "3.2423221486546887"
      ]
     },
     "execution_count": 38,
     "metadata": {},
     "output_type": "execute_result"
    }
   ],
   "source": [
    "import math\n",
    "from sklearn.metrics import mean_squared_error\n",
    "ms= lm.predict(X)\n",
    "mse = mean_squared_error(y_true=y,y_pred=ms)\n",
    "rmse = math.sqrt(mse)\n",
    "rmse"
   ]
  },
  {
   "cell_type": "markdown",
   "id": "a10ebcf6",
   "metadata": {},
   "source": [
    "## linear regression model for newspaper"
   ]
  },
  {
   "cell_type": "code",
   "execution_count": 39,
   "id": "3616a386",
   "metadata": {},
   "outputs": [
    {
     "data": {
      "text/plain": [
       "LinearRegression()"
      ]
     },
     "execution_count": 39,
     "metadata": {},
     "output_type": "execute_result"
    }
   ],
   "source": [
    "X1= data[['newspaper']]\n",
    "y = data.sales\n",
    "from sklearn.linear_model import LinearRegression\n",
    "lm = LinearRegression()\n",
    "lm.fit(X1,y)"
   ]
  },
  {
   "cell_type": "markdown",
   "id": "40187dee",
   "metadata": {},
   "source": [
    "### finding intercept and Coefficient\n"
   ]
  },
  {
   "cell_type": "code",
   "execution_count": 40,
   "id": "a78fe366",
   "metadata": {},
   "outputs": [
    {
     "name": "stdout",
     "output_type": "stream",
     "text": [
      "12.351407069278162\n",
      "[0.0546931]\n"
     ]
    }
   ],
   "source": [
    "print(lm.intercept_)\n",
    "print(lm.coef_)\n"
   ]
  },
  {
   "cell_type": "markdown",
   "id": "1a154c7a",
   "metadata": {},
   "source": [
    "### sales = 0.054X1 + 12.35 "
   ]
  },
  {
   "cell_type": "code",
   "execution_count": 41,
   "id": "9a1937a9",
   "metadata": {},
   "outputs": [
    {
     "data": {
      "text/plain": [
       "array([15.08606199])"
      ]
     },
     "execution_count": 41,
     "metadata": {},
     "output_type": "execute_result"
    }
   ],
   "source": [
    "%%capture --no-display\n",
    "lm.predict([[50]])"
   ]
  },
  {
   "cell_type": "markdown",
   "id": "60a4ff87",
   "metadata": {},
   "source": [
    "### r2 score"
   ]
  },
  {
   "cell_type": "code",
   "execution_count": 42,
   "id": "f633f5fa",
   "metadata": {},
   "outputs": [
    {
     "data": {
      "text/plain": [
       "0.05212044544430516"
      ]
     },
     "execution_count": 42,
     "metadata": {},
     "output_type": "execute_result"
    }
   ],
   "source": [
    "from sklearn.metrics import r2_score\n",
    "z= lm.predict(X1)\n",
    "r2_score(y_true=y,y_pred=z)"
   ]
  },
  {
   "cell_type": "markdown",
   "id": "78dc7bb1",
   "metadata": {},
   "source": [
    "### mean absolute error"
   ]
  },
  {
   "cell_type": "code",
   "execution_count": 43,
   "id": "1fccf980",
   "metadata": {},
   "outputs": [
    {
     "data": {
      "text/plain": [
       "4.146559743838488"
      ]
     },
     "execution_count": 43,
     "metadata": {},
     "output_type": "execute_result"
    }
   ],
   "source": [
    "from sklearn.metrics import mean_absolute_error\n",
    "m= lm.predict(X1)\n",
    "mean_absolute_error(y_true=y,y_pred=m)"
   ]
  },
  {
   "cell_type": "markdown",
   "id": "916c9b89",
   "metadata": {},
   "source": [
    "### mean square absolute error"
   ]
  },
  {
   "cell_type": "code",
   "execution_count": 44,
   "id": "bfbc375d",
   "metadata": {},
   "outputs": [
    {
     "data": {
      "text/plain": [
       "25.674022720559698"
      ]
     },
     "execution_count": 44,
     "metadata": {},
     "output_type": "execute_result"
    }
   ],
   "source": [
    "from sklearn.metrics import mean_squared_error\n",
    "ms= lm.predict(X1)\n",
    "mean_squared_error(y_true=y,y_pred=ms)"
   ]
  },
  {
   "cell_type": "markdown",
   "id": "7e8d7d30",
   "metadata": {},
   "source": [
    "### root mean square"
   ]
  },
  {
   "cell_type": "code",
   "execution_count": 45,
   "id": "f52672e5",
   "metadata": {},
   "outputs": [
    {
     "data": {
      "text/plain": [
       "5.066953988399707"
      ]
     },
     "execution_count": 45,
     "metadata": {},
     "output_type": "execute_result"
    }
   ],
   "source": [
    "import math\n",
    "from sklearn.metrics import mean_squared_error\n",
    "ms= lm.predict(X1)\n",
    "mse = mean_squared_error(y_true=y,y_pred=ms)\n",
    "rmse = math.sqrt(mse)\n",
    "rmse"
   ]
  },
  {
   "cell_type": "markdown",
   "id": "030a5549",
   "metadata": {},
   "source": [
    "## Linear regression model for radio"
   ]
  },
  {
   "cell_type": "code",
   "execution_count": 46,
   "id": "b14cd96d",
   "metadata": {},
   "outputs": [
    {
     "data": {
      "text/plain": [
       "LinearRegression()"
      ]
     },
     "execution_count": 46,
     "metadata": {},
     "output_type": "execute_result"
    }
   ],
   "source": [
    "X2= data[['radio']]\n",
    "y = data.sales\n",
    "from sklearn.linear_model import LinearRegression\n",
    "lm = LinearRegression()\n",
    "lm.fit(X2,y)"
   ]
  },
  {
   "cell_type": "markdown",
   "id": "f6ecd4d7",
   "metadata": {},
   "source": [
    "### finding intercept and Coefficient\n"
   ]
  },
  {
   "cell_type": "code",
   "execution_count": 47,
   "id": "f63282a8",
   "metadata": {},
   "outputs": [
    {
     "name": "stdout",
     "output_type": "stream",
     "text": [
      "9.311638095158283\n",
      "[0.20249578]\n"
     ]
    }
   ],
   "source": [
    "print(lm.intercept_)\n",
    "print(lm.coef_)\n"
   ]
  },
  {
   "cell_type": "markdown",
   "id": "cf80d168",
   "metadata": {},
   "source": [
    "### sales = 0.202X2 + 9.3116"
   ]
  },
  {
   "cell_type": "code",
   "execution_count": 48,
   "id": "3c5f164a",
   "metadata": {},
   "outputs": [
    {
     "data": {
      "text/plain": [
       "array([19.43642726])"
      ]
     },
     "execution_count": 48,
     "metadata": {},
     "output_type": "execute_result"
    }
   ],
   "source": [
    "%%capture --no-display\n",
    "lm.predict([[50]])"
   ]
  },
  {
   "cell_type": "markdown",
   "id": "4e426c95",
   "metadata": {},
   "source": [
    "### r2 score"
   ]
  },
  {
   "cell_type": "code",
   "execution_count": 49,
   "id": "4a67bfd3",
   "metadata": {},
   "outputs": [
    {
     "data": {
      "text/plain": [
       "0.33203245544529525"
      ]
     },
     "execution_count": 49,
     "metadata": {},
     "output_type": "execute_result"
    }
   ],
   "source": [
    "from sklearn.metrics import r2_score\n",
    "z= lm.predict(X2)\n",
    "r2_score(y_true=y,y_pred=z)"
   ]
  },
  {
   "cell_type": "markdown",
   "id": "eca494d3",
   "metadata": {},
   "source": [
    "### mean absolute error"
   ]
  },
  {
   "cell_type": "code",
   "execution_count": 50,
   "id": "7316575f",
   "metadata": {},
   "outputs": [
    {
     "data": {
      "text/plain": [
       "3.3202187976420663"
      ]
     },
     "execution_count": 50,
     "metadata": {},
     "output_type": "execute_result"
    }
   ],
   "source": [
    "from sklearn.metrics import mean_absolute_error\n",
    "m= lm.predict(X2)\n",
    "mean_absolute_error(y_true=y,y_pred=m)"
   ]
  },
  {
   "cell_type": "markdown",
   "id": "c862a6a4",
   "metadata": {},
   "source": [
    "### mean square absolute error"
   ]
  },
  {
   "cell_type": "code",
   "execution_count": 51,
   "id": "de8ae3f0",
   "metadata": {},
   "outputs": [
    {
     "data": {
      "text/plain": [
       "18.09239774512544"
      ]
     },
     "execution_count": 51,
     "metadata": {},
     "output_type": "execute_result"
    }
   ],
   "source": [
    "from sklearn.metrics import mean_squared_error\n",
    "ms= lm.predict(X2)\n",
    "mean_squared_error(y_true=y,y_pred=ms)"
   ]
  },
  {
   "cell_type": "markdown",
   "id": "38a6dafc",
   "metadata": {},
   "source": [
    "### root mean square error"
   ]
  },
  {
   "cell_type": "code",
   "execution_count": 52,
   "id": "c7551f1e",
   "metadata": {},
   "outputs": [
    {
     "data": {
      "text/plain": [
       "4.2535159274564185"
      ]
     },
     "execution_count": 52,
     "metadata": {},
     "output_type": "execute_result"
    }
   ],
   "source": [
    "import math\n",
    "from sklearn.metrics import mean_squared_error\n",
    "ms= lm.predict(X2)\n",
    "mse = mean_squared_error(y_true=y,y_pred=ms)\n",
    "rmse = math.sqrt(mse)\n",
    "rmse"
   ]
  },
  {
   "cell_type": "markdown",
   "id": "012ec9e2",
   "metadata": {},
   "source": [
    "## multiple linear regression"
   ]
  },
  {
   "cell_type": "code",
   "execution_count": 53,
   "id": "a981fc0b",
   "metadata": {},
   "outputs": [
    {
     "data": {
      "text/plain": [
       "LinearRegression()"
      ]
     },
     "execution_count": 53,
     "metadata": {},
     "output_type": "execute_result"
    }
   ],
   "source": [
    "Xm= data[['TV','newspaper','radio']]\n",
    "y = data.sales\n",
    "from sklearn.linear_model import LinearRegression\n",
    "lm = LinearRegression()\n",
    "lm.fit(Xm,y)"
   ]
  },
  {
   "cell_type": "markdown",
   "id": "5babdeba",
   "metadata": {},
   "source": [
    "### finding intercept and coeffcient"
   ]
  },
  {
   "cell_type": "code",
   "execution_count": 54,
   "id": "c2f6b5d8",
   "metadata": {},
   "outputs": [
    {
     "name": "stdout",
     "output_type": "stream",
     "text": [
      "Intercept:  2.9388893694594067\n",
      "Coef_TV: 0.045764645455397615\n",
      "Coef_newspaper: -0.001037493042476259\n",
      "Coef_radio: 0.18853001691820445\n"
     ]
    }
   ],
   "source": [
    "print(\"Intercept: \",lm.intercept_)\n",
    "print(\"Coef_TV:\",lm.coef_[0])\n",
    "print(\"Coef_newspaper:\",lm.coef_[1])\n",
    "print(\"Coef_radio:\",lm.coef_[2])"
   ]
  },
  {
   "cell_type": "markdown",
   "id": "7211f717",
   "metadata": {},
   "source": [
    "### sales = 0.045X + -0.0010X1 + 0.188X2 + 2.938"
   ]
  },
  {
   "cell_type": "code",
   "execution_count": 55,
   "id": "174125dd",
   "metadata": {},
   "outputs": [
    {
     "data": {
      "text/plain": [
       "array([14.60174784])"
      ]
     },
     "execution_count": 55,
     "metadata": {},
     "output_type": "execute_result"
    }
   ],
   "source": [
    "%%capture --no-display\n",
    "lm.predict([[50,50,50]])"
   ]
  },
  {
   "cell_type": "markdown",
   "id": "1c62d035",
   "metadata": {},
   "source": [
    "### r2_score"
   ]
  },
  {
   "cell_type": "code",
   "execution_count": 56,
   "id": "d91a9def",
   "metadata": {},
   "outputs": [
    {
     "data": {
      "text/plain": [
       "0.8972106381789522"
      ]
     },
     "execution_count": 56,
     "metadata": {},
     "output_type": "execute_result"
    }
   ],
   "source": [
    "from sklearn.metrics import r2_score\n",
    "z= lm.predict(Xm)\n",
    "r2_score(y_true=y,y_pred=z)"
   ]
  },
  {
   "cell_type": "markdown",
   "id": "4c22ef39",
   "metadata": {},
   "source": [
    "### mean absolute error"
   ]
  },
  {
   "cell_type": "code",
   "execution_count": 57,
   "id": "d641486d",
   "metadata": {},
   "outputs": [
    {
     "data": {
      "text/plain": [
       "1.2520112296870687"
      ]
     },
     "execution_count": 57,
     "metadata": {},
     "output_type": "execute_result"
    }
   ],
   "source": [
    "from sklearn.metrics import mean_absolute_error\n",
    "m= lm.predict(Xm)\n",
    "mean_absolute_error(y_true=y,y_pred=m)"
   ]
  },
  {
   "cell_type": "markdown",
   "id": "54c690af",
   "metadata": {},
   "source": [
    "### mean square absolute error"
   ]
  },
  {
   "cell_type": "code",
   "execution_count": 58,
   "id": "3ec73211",
   "metadata": {},
   "outputs": [
    {
     "data": {
      "text/plain": [
       "2.784126314510936"
      ]
     },
     "execution_count": 58,
     "metadata": {},
     "output_type": "execute_result"
    }
   ],
   "source": [
    "from sklearn.metrics import mean_squared_error\n",
    "ms= lm.predict(Xm)\n",
    "mean_squared_error(y_true=y,y_pred=ms)"
   ]
  },
  {
   "cell_type": "markdown",
   "id": "53c0b792",
   "metadata": {},
   "source": [
    "### root mean square error"
   ]
  },
  {
   "cell_type": "code",
   "execution_count": 59,
   "id": "6b98995a",
   "metadata": {},
   "outputs": [
    {
     "data": {
      "text/plain": [
       "1.6685701407225697"
      ]
     },
     "execution_count": 59,
     "metadata": {},
     "output_type": "execute_result"
    }
   ],
   "source": [
    "import math\n",
    "from sklearn.metrics import mean_squared_error\n",
    "ms= lm.predict(Xm)\n",
    "mse = mean_squared_error(y_true=y,y_pred=ms)\n",
    "rmse = math.sqrt(mse)\n",
    "rmse"
   ]
  },
  {
   "cell_type": "markdown",
   "id": "6df687c4",
   "metadata": {},
   "source": [
    "## linear regression model for tv and radio only"
   ]
  },
  {
   "cell_type": "code",
   "execution_count": 60,
   "id": "080d7c7c",
   "metadata": {},
   "outputs": [
    {
     "data": {
      "text/plain": [
       "LinearRegression()"
      ]
     },
     "execution_count": 60,
     "metadata": {},
     "output_type": "execute_result"
    }
   ],
   "source": [
    "Xtr= data[['TV','radio']]\n",
    "y = data.sales\n",
    "from sklearn.linear_model import LinearRegression\n",
    "lm = LinearRegression()\n",
    "lm.fit(Xtr,y)"
   ]
  },
  {
   "cell_type": "markdown",
   "id": "f80b5f09",
   "metadata": {},
   "source": [
    "### finding intercept and coeffcient"
   ]
  },
  {
   "cell_type": "code",
   "execution_count": 61,
   "id": "8111cc38",
   "metadata": {},
   "outputs": [
    {
     "name": "stdout",
     "output_type": "stream",
     "text": [
      "Intercept:  2.921099912405138\n",
      "Coef_TV: 0.04575481510107615\n",
      "Coef_radio: 0.18799422662030915\n"
     ]
    }
   ],
   "source": [
    "print(\"Intercept: \",lm.intercept_)\n",
    "print(\"Coef_TV:\",lm.coef_[0])\n",
    "print(\"Coef_radio:\",lm.coef_[1])"
   ]
  },
  {
   "cell_type": "markdown",
   "id": "bc4f2d5b",
   "metadata": {},
   "source": [
    "### sales = 0.045X + 0.187X1 + 2.921"
   ]
  },
  {
   "cell_type": "markdown",
   "id": "e8b03fac",
   "metadata": {},
   "source": [
    "### r2_score for tv and radio only"
   ]
  },
  {
   "cell_type": "code",
   "execution_count": 62,
   "id": "cd9382a9",
   "metadata": {},
   "outputs": [
    {
     "data": {
      "text/plain": [
       "0.8971942610828956"
      ]
     },
     "execution_count": 62,
     "metadata": {},
     "output_type": "execute_result"
    }
   ],
   "source": [
    "from sklearn.metrics import r2_score\n",
    "z= lm.predict(Xtr)\n",
    "r2_score(y_true=y,y_pred=z)"
   ]
  },
  {
   "cell_type": "markdown",
   "id": "e7fca34e",
   "metadata": {},
   "source": [
    "### mean absolute square error"
   ]
  },
  {
   "cell_type": "code",
   "execution_count": 63,
   "id": "728c7c14",
   "metadata": {},
   "outputs": [
    {
     "data": {
      "text/plain": [
       "1.2537471644234006"
      ]
     },
     "execution_count": 63,
     "metadata": {},
     "output_type": "execute_result"
    }
   ],
   "source": [
    "from sklearn.metrics import mean_absolute_error\n",
    "m= lm.predict(Xtr)\n",
    "mean_absolute_error(y_true=y,y_pred=m)"
   ]
  },
  {
   "cell_type": "markdown",
   "id": "9727e90c",
   "metadata": {},
   "source": [
    "### mean square absolute error"
   ]
  },
  {
   "cell_type": "code",
   "execution_count": 64,
   "id": "cd5ccbc4",
   "metadata": {},
   "outputs": [
    {
     "data": {
      "text/plain": [
       "2.7845699003380924"
      ]
     },
     "execution_count": 64,
     "metadata": {},
     "output_type": "execute_result"
    }
   ],
   "source": [
    "from sklearn.metrics import mean_squared_error\n",
    "ms= lm.predict(Xtr)\n",
    "mean_squared_error(y_true=y,y_pred=ms)"
   ]
  },
  {
   "cell_type": "markdown",
   "id": "e5f64452",
   "metadata": {},
   "source": [
    "### root mean square"
   ]
  },
  {
   "cell_type": "code",
   "execution_count": 65,
   "id": "eda8ac7f",
   "metadata": {},
   "outputs": [
    {
     "data": {
      "text/plain": [
       "1.6687030593661931"
      ]
     },
     "execution_count": 65,
     "metadata": {},
     "output_type": "execute_result"
    }
   ],
   "source": [
    "import math\n",
    "from sklearn.metrics import mean_squared_error\n",
    "ms= lm.predict(Xtr)\n",
    "mse = mean_squared_error(y_true=y,y_pred=ms)\n",
    "rmse = math.sqrt(mse)\n",
    "rmse"
   ]
  },
  {
   "cell_type": "markdown",
   "id": "3e707e39",
   "metadata": {},
   "source": [
    "## tv linear model line plot"
   ]
  },
  {
   "cell_type": "code",
   "execution_count": 66,
   "id": "675186bb",
   "metadata": {},
   "outputs": [
    {
     "data": {
      "text/html": [
       "<div>\n",
       "<style scoped>\n",
       "    .dataframe tbody tr th:only-of-type {\n",
       "        vertical-align: middle;\n",
       "    }\n",
       "\n",
       "    .dataframe tbody tr th {\n",
       "        vertical-align: top;\n",
       "    }\n",
       "\n",
       "    .dataframe thead th {\n",
       "        text-align: right;\n",
       "    }\n",
       "</style>\n",
       "<table border=\"1\" class=\"dataframe\">\n",
       "  <thead>\n",
       "    <tr style=\"text-align: right;\">\n",
       "      <th></th>\n",
       "      <th>TV</th>\n",
       "    </tr>\n",
       "  </thead>\n",
       "  <tbody>\n",
       "    <tr>\n",
       "      <th>169</th>\n",
       "      <td>284.3</td>\n",
       "    </tr>\n",
       "    <tr>\n",
       "      <th>97</th>\n",
       "      <td>184.9</td>\n",
       "    </tr>\n",
       "    <tr>\n",
       "      <th>31</th>\n",
       "      <td>112.9</td>\n",
       "    </tr>\n",
       "    <tr>\n",
       "      <th>12</th>\n",
       "      <td>23.8</td>\n",
       "    </tr>\n",
       "    <tr>\n",
       "      <th>35</th>\n",
       "      <td>290.7</td>\n",
       "    </tr>\n",
       "  </tbody>\n",
       "</table>\n",
       "</div>"
      ],
      "text/plain": [
       "        TV\n",
       "169  284.3\n",
       "97   184.9\n",
       "31   112.9\n",
       "12    23.8\n",
       "35   290.7"
      ]
     },
     "execution_count": 66,
     "metadata": {},
     "output_type": "execute_result"
    }
   ],
   "source": [
    "from sklearn.model_selection import train_test_split\n",
    "X_train, X_test, y_train, y_test = train_test_split(X, y, test_size=0.3, random_state=42)\n",
    "X_train.head()"
   ]
  },
  {
   "cell_type": "code",
   "execution_count": 67,
   "id": "62fa6cd3",
   "metadata": {},
   "outputs": [
    {
     "data": {
      "text/plain": [
       "169    15.0\n",
       "97     15.5\n",
       "31     11.9\n",
       "12      9.2\n",
       "35     12.8\n",
       "Name: sales, dtype: float64"
      ]
     },
     "execution_count": 67,
     "metadata": {},
     "output_type": "execute_result"
    }
   ],
   "source": [
    "y_train.head()"
   ]
  },
  {
   "cell_type": "code",
   "execution_count": 68,
   "id": "ac1d97c6",
   "metadata": {},
   "outputs": [
    {
     "data": {
      "text/html": [
       "<div>\n",
       "<style scoped>\n",
       "    .dataframe tbody tr th:only-of-type {\n",
       "        vertical-align: middle;\n",
       "    }\n",
       "\n",
       "    .dataframe tbody tr th {\n",
       "        vertical-align: top;\n",
       "    }\n",
       "\n",
       "    .dataframe thead th {\n",
       "        text-align: right;\n",
       "    }\n",
       "</style>\n",
       "<table border=\"1\" class=\"dataframe\">\n",
       "  <thead>\n",
       "    <tr style=\"text-align: right;\">\n",
       "      <th></th>\n",
       "      <th>TV</th>\n",
       "    </tr>\n",
       "  </thead>\n",
       "  <tbody>\n",
       "    <tr>\n",
       "      <th>95</th>\n",
       "      <td>163.3</td>\n",
       "    </tr>\n",
       "    <tr>\n",
       "      <th>15</th>\n",
       "      <td>195.4</td>\n",
       "    </tr>\n",
       "    <tr>\n",
       "      <th>30</th>\n",
       "      <td>292.9</td>\n",
       "    </tr>\n",
       "    <tr>\n",
       "      <th>158</th>\n",
       "      <td>11.7</td>\n",
       "    </tr>\n",
       "    <tr>\n",
       "      <th>128</th>\n",
       "      <td>220.3</td>\n",
       "    </tr>\n",
       "  </tbody>\n",
       "</table>\n",
       "</div>"
      ],
      "text/plain": [
       "        TV\n",
       "95   163.3\n",
       "15   195.4\n",
       "30   292.9\n",
       "158   11.7\n",
       "128  220.3"
      ]
     },
     "execution_count": 68,
     "metadata": {},
     "output_type": "execute_result"
    }
   ],
   "source": [
    "X_test.head()"
   ]
  },
  {
   "cell_type": "code",
   "execution_count": 69,
   "id": "a0cf025d",
   "metadata": {},
   "outputs": [
    {
     "data": {
      "text/plain": [
       "LinearRegression()"
      ]
     },
     "execution_count": 69,
     "metadata": {},
     "output_type": "execute_result"
    }
   ],
   "source": [
    "lm.fit(X_train,y_train)"
   ]
  },
  {
   "cell_type": "code",
   "execution_count": 70,
   "id": "2e7a394b",
   "metadata": {},
   "outputs": [
    {
     "data": {
      "text/plain": [
       "array([14.81785392, 16.30754437, 20.83230507,  7.78243112, 17.46309864,\n",
       "       10.72468577, 17.30067133,  9.55984994, 17.56055502, 15.36546598,\n",
       "        8.7013056 ,  9.84757831, 18.12208943,  7.49006196, 13.71334823,\n",
       "       15.13806775,  7.57823679, 16.40964153, 10.73396733, 18.25667206,\n",
       "       17.89005042, 10.38590882,  9.00295631, 18.88317738, 10.44159818,\n",
       "        9.72227724, 17.14752559, 13.70406667, 11.28622018,  7.62928537,\n",
       "       16.5117387 , 10.45087974, 16.46997167,  8.02375169, 20.26612989,\n",
       "       18.2937983 ,  9.48095667, 19.94127527, 12.67845424,  8.51567439,\n",
       "       12.62276488, 15.45364081,  9.2396361 , 10.1306659 , 17.63480751,\n",
       "        9.01223787, 10.51585066, 14.07532908, 12.09371593, 10.78037513,\n",
       "       10.86854996, 15.05453371,  7.64320771,  7.60144069, 10.78501591,\n",
       "       13.24462943, 10.64579251, 20.68380011,  8.14905275, 16.40964153])"
      ]
     },
     "execution_count": 70,
     "metadata": {},
     "output_type": "execute_result"
    }
   ],
   "source": [
    "y_pred = lm.predict(X_test)\n",
    "y_pred"
   ]
  },
  {
   "cell_type": "code",
   "execution_count": 71,
   "id": "ae100004",
   "metadata": {},
   "outputs": [
    {
     "data": {
      "text/plain": [
       "[<matplotlib.lines.Line2D at 0x176fd923a60>]"
      ]
     },
     "execution_count": 71,
     "metadata": {},
     "output_type": "execute_result"
    },
    {
     "data": {
      "image/png": "[encoded data removed]",
      "text/plain": [
       "<Figure size 640x480 with 1 Axes>"
      ]
     },
     "metadata": {},
     "output_type": "display_data"
    }
   ],
   "source": [
    "plt.scatter(X_test,y_test,color=\"orange\")\n",
    "plt.plot(X_test,y_pred,color=\"red\",linewidth=3)"
   ]
  },
  {
   "cell_type": "markdown",
   "id": "075ef528",
   "metadata": {},
   "source": [
    "### Newspaper linear regression plot"
   ]
  },
  {
   "cell_type": "code",
   "execution_count": 72,
   "id": "9a9e9671",
   "metadata": {},
   "outputs": [
    {
     "data": {
      "text/html": [
       "<div>\n",
       "<style scoped>\n",
       "    .dataframe tbody tr th:only-of-type {\n",
       "        vertical-align: middle;\n",
       "    }\n",
       "\n",
       "    .dataframe tbody tr th {\n",
       "        vertical-align: top;\n",
       "    }\n",
       "\n",
       "    .dataframe thead th {\n",
       "        text-align: right;\n",
       "    }\n",
       "</style>\n",
       "<table border=\"1\" class=\"dataframe\">\n",
       "  <thead>\n",
       "    <tr style=\"text-align: right;\">\n",
       "      <th></th>\n",
       "      <th>newspaper</th>\n",
       "    </tr>\n",
       "  </thead>\n",
       "  <tbody>\n",
       "    <tr>\n",
       "      <th>169</th>\n",
       "      <td>6.4</td>\n",
       "    </tr>\n",
       "    <tr>\n",
       "      <th>97</th>\n",
       "      <td>22.0</td>\n",
       "    </tr>\n",
       "    <tr>\n",
       "      <th>31</th>\n",
       "      <td>38.6</td>\n",
       "    </tr>\n",
       "    <tr>\n",
       "      <th>12</th>\n",
       "      <td>65.9</td>\n",
       "    </tr>\n",
       "    <tr>\n",
       "      <th>35</th>\n",
       "      <td>8.5</td>\n",
       "    </tr>\n",
       "  </tbody>\n",
       "</table>\n",
       "</div>"
      ],
      "text/plain": [
       "     newspaper\n",
       "169        6.4\n",
       "97        22.0\n",
       "31        38.6\n",
       "12        65.9\n",
       "35         8.5"
      ]
     },
     "execution_count": 72,
     "metadata": {},
     "output_type": "execute_result"
    }
   ],
   "source": [
    "from sklearn.model_selection import train_test_split\n",
    "X1_train, X1_test, y1_train, y1_test = train_test_split(X1, y, test_size=0.3, random_state=42)\n",
    "X1_train.head()\n"
   ]
  },
  {
   "cell_type": "code",
   "execution_count": 73,
   "id": "53cb60e2",
   "metadata": {},
   "outputs": [
    {
     "data": {
      "text/plain": [
       "LinearRegression()"
      ]
     },
     "execution_count": 73,
     "metadata": {},
     "output_type": "execute_result"
    }
   ],
   "source": [
    "lm.fit(X1_train,y1_train)"
   ]
  },
  {
   "cell_type": "code",
   "execution_count": 74,
   "id": "eb25481f",
   "metadata": {},
   "outputs": [
    {
     "data": {
      "text/plain": [
       "array([15.86524548, 15.86524548, 15.27418406, 15.39605239, 12.83681738,\n",
       "       15.85305865, 14.29923739, 13.76301672, 13.44006563, 14.56125431,\n",
       "       12.77588321, 14.45157281, 17.8090454 , 13.21460922, 14.26267689,\n",
       "       14.78671072, 15.16450256, 13.50709322, 14.62218847, 13.31210388,\n",
       "       17.16314324, 19.58832308, 13.36694463, 17.04736832, 12.6966688 ,\n",
       "       13.94581922, 14.70140289, 13.26335655, 14.22002297, 12.7697898 ,\n",
       "       13.93363239, 13.7569233 , 16.29787806, 18.08934257, 14.89639222,\n",
       "       12.96477913, 13.15976847, 16.27959781, 12.97087255, 13.9031653 ,\n",
       "       14.0494073 , 13.03180671, 14.78061731, 13.7569233 , 13.59240105,\n",
       "       13.48271955, 15.12794206, 13.80567064, 14.73796339, 13.61677472,\n",
       "       14.74405681, 13.42178538, 17.21189057, 15.72509689, 13.54365372,\n",
       "       14.54906747, 13.4278788 , 15.76165739, 13.67770888, 13.00133963])"
      ]
     },
     "execution_count": 74,
     "metadata": {},
     "output_type": "execute_result"
    }
   ],
   "source": [
    "%%capture --no-display\n",
    "y1_pred = lm.predict(X1_test)\n",
    "y1_pred"
   ]
  },
  {
   "cell_type": "code",
   "execution_count": 75,
   "id": "1193a7a4",
   "metadata": {},
   "outputs": [
    {
     "data": {
      "text/plain": [
       "[<matplotlib.lines.Line2D at 0x176fc9e1bb0>]"
      ]
     },
     "execution_count": 75,
     "metadata": {},
     "output_type": "execute_result"
    },
    {
     "data": {
      "image/png": "[encoded data removed]",
      "text/plain": [
       "<Figure size 640x480 with 1 Axes>"
      ]
     },
     "metadata": {},
     "output_type": "display_data"
    }
   ],
   "source": [
    "plt.scatter(X1_test,y1_test,color=\"blue\")\n",
    "plt.plot(X1_test,y1_pred,color=\"pink\",linewidth=3)"
   ]
  },
  {
   "cell_type": "markdown",
   "id": "1ddc75bc",
   "metadata": {},
   "source": [
    "## linear regression plot for radio"
   ]
  },
  {
   "cell_type": "code",
   "execution_count": 76,
   "id": "7e8f6422",
   "metadata": {},
   "outputs": [
    {
     "data": {
      "text/html": [
       "<div>\n",
       "<style scoped>\n",
       "    .dataframe tbody tr th:only-of-type {\n",
       "        vertical-align: middle;\n",
       "    }\n",
       "\n",
       "    .dataframe tbody tr th {\n",
       "        vertical-align: top;\n",
       "    }\n",
       "\n",
       "    .dataframe thead th {\n",
       "        text-align: right;\n",
       "    }\n",
       "</style>\n",
       "<table border=\"1\" class=\"dataframe\">\n",
       "  <thead>\n",
       "    <tr style=\"text-align: right;\">\n",
       "      <th></th>\n",
       "      <th>radio</th>\n",
       "    </tr>\n",
       "  </thead>\n",
       "  <tbody>\n",
       "    <tr>\n",
       "      <th>169</th>\n",
       "      <td>10.6</td>\n",
       "    </tr>\n",
       "    <tr>\n",
       "      <th>97</th>\n",
       "      <td>21.0</td>\n",
       "    </tr>\n",
       "    <tr>\n",
       "      <th>31</th>\n",
       "      <td>17.4</td>\n",
       "    </tr>\n",
       "    <tr>\n",
       "      <th>12</th>\n",
       "      <td>35.1</td>\n",
       "    </tr>\n",
       "    <tr>\n",
       "      <th>35</th>\n",
       "      <td>4.1</td>\n",
       "    </tr>\n",
       "  </tbody>\n",
       "</table>\n",
       "</div>"
      ],
      "text/plain": [
       "     radio\n",
       "169   10.6\n",
       "97    21.0\n",
       "31    17.4\n",
       "12    35.1\n",
       "35     4.1"
      ]
     },
     "execution_count": 76,
     "metadata": {},
     "output_type": "execute_result"
    }
   ],
   "source": [
    "from sklearn.model_selection import train_test_split\n",
    "X2_train, X2_test, y2_train, y2_test = train_test_split(X2, y, test_size=0.3, random_state=42)\n",
    "X2_train.head()"
   ]
  },
  {
   "cell_type": "code",
   "execution_count": 77,
   "id": "0c51d799",
   "metadata": {},
   "outputs": [
    {
     "data": {
      "text/plain": [
       "LinearRegression()"
      ]
     },
     "execution_count": 77,
     "metadata": {},
     "output_type": "execute_result"
    }
   ],
   "source": [
    "lm.fit(X2_train,y2_train)"
   ]
  },
  {
   "cell_type": "code",
   "execution_count": 78,
   "id": "60648b24",
   "metadata": {},
   "outputs": [
    {
     "data": {
      "text/plain": [
       "array([16.26772205, 19.79791711, 15.5441417 , 17.42983596, 20.08296392,\n",
       "       17.01322909, 18.96470337, 11.88238658, 10.08439904, 14.27239441,\n",
       "       14.73285464, 10.58871262, 10.08439904, 15.89496854,  9.79935223,\n",
       "       11.04917284, 15.50028835, 14.44780783, 13.79000751, 15.36872828,\n",
       "       16.4212088 , 17.36405592, 18.17534299, 17.34212925, 11.378073  ,\n",
       "        9.77742555, 18.76736327, 12.51826022, 11.92623994, 15.30294825,\n",
       "        9.90898562, 13.83386087, 20.17067063, 18.92085002, 12.38670016,\n",
       "       16.85974234, 19.64443037, 15.67570177, 12.56211358,  9.68971884,\n",
       "       11.02724616, 11.378073  , 15.19331486, 12.10165335,  9.86513226,\n",
       "       10.15017907, 12.84716039, 14.5793679 , 10.58871262, 15.36872828,\n",
       "       19.60057701, 10.8956861 , 20.06103724, 17.8683695 ,  9.51430543,\n",
       "       10.58871262, 13.06642716, 18.61387653, 13.74615416, 10.10632571])"
      ]
     },
     "execution_count": 78,
     "metadata": {},
     "output_type": "execute_result"
    }
   ],
   "source": [
    "%%capture --no-display\n",
    "y2_pred = lm.predict(X2_test)\n",
    "y2_pred"
   ]
  },
  {
   "cell_type": "code",
   "execution_count": 79,
   "id": "738e0a00",
   "metadata": {},
   "outputs": [
    {
     "data": {
      "text/plain": [
       "[<matplotlib.lines.Line2D at 0x176fc988f10>]"
      ]
     },
     "execution_count": 79,
     "metadata": {},
     "output_type": "execute_result"
    },
    {
     "data": {
      "image/png": "[encoded data removed]",
      "text/plain": [
       "<Figure size 640x480 with 1 Axes>"
      ]
     },
     "metadata": {},
     "output_type": "display_data"
    }
   ],
   "source": [
    "plt.scatter(X2_test,y2_test,color=\"green\")\n",
    "plt.plot(X2_test,y2_pred,color=\"purple\",linewidth=3)"
   ]
  },
  {
   "cell_type": "markdown",
   "id": "681b15a9",
   "metadata": {},
   "source": [
    "## multiple linear regression plot"
   ]
  },
  {
   "cell_type": "code",
   "execution_count": 80,
   "id": "bdcb544a",
   "metadata": {},
   "outputs": [
    {
     "data": {
      "text/html": [
       "<div>\n",
       "<style scoped>\n",
       "    .dataframe tbody tr th:only-of-type {\n",
       "        vertical-align: middle;\n",
       "    }\n",
       "\n",
       "    .dataframe tbody tr th {\n",
       "        vertical-align: top;\n",
       "    }\n",
       "\n",
       "    .dataframe thead th {\n",
       "        text-align: right;\n",
       "    }\n",
       "</style>\n",
       "<table border=\"1\" class=\"dataframe\">\n",
       "  <thead>\n",
       "    <tr style=\"text-align: right;\">\n",
       "      <th></th>\n",
       "      <th>TV</th>\n",
       "      <th>newspaper</th>\n",
       "      <th>radio</th>\n",
       "    </tr>\n",
       "  </thead>\n",
       "  <tbody>\n",
       "    <tr>\n",
       "      <th>169</th>\n",
       "      <td>284.3</td>\n",
       "      <td>6.4</td>\n",
       "      <td>10.6</td>\n",
       "    </tr>\n",
       "    <tr>\n",
       "      <th>97</th>\n",
       "      <td>184.9</td>\n",
       "      <td>22.0</td>\n",
       "      <td>21.0</td>\n",
       "    </tr>\n",
       "    <tr>\n",
       "      <th>31</th>\n",
       "      <td>112.9</td>\n",
       "      <td>38.6</td>\n",
       "      <td>17.4</td>\n",
       "    </tr>\n",
       "    <tr>\n",
       "      <th>12</th>\n",
       "      <td>23.8</td>\n",
       "      <td>65.9</td>\n",
       "      <td>35.1</td>\n",
       "    </tr>\n",
       "    <tr>\n",
       "      <th>35</th>\n",
       "      <td>290.7</td>\n",
       "      <td>8.5</td>\n",
       "      <td>4.1</td>\n",
       "    </tr>\n",
       "  </tbody>\n",
       "</table>\n",
       "</div>"
      ],
      "text/plain": [
       "        TV  newspaper  radio\n",
       "169  284.3        6.4   10.6\n",
       "97   184.9       22.0   21.0\n",
       "31   112.9       38.6   17.4\n",
       "12    23.8       65.9   35.1\n",
       "35   290.7        8.5    4.1"
      ]
     },
     "execution_count": 80,
     "metadata": {},
     "output_type": "execute_result"
    }
   ],
   "source": [
    "from sklearn.model_selection import train_test_split\n",
    "Xm_train, Xm_test, ym_train, ym_test = train_test_split(Xm, y, test_size=0.3, random_state=42)\n",
    "Xm_train.head()"
   ]
  },
  {
   "cell_type": "code",
   "execution_count": 81,
   "id": "2c0f0557",
   "metadata": {},
   "outputs": [
    {
     "data": {
      "text/html": [
       "<div>\n",
       "<style scoped>\n",
       "    .dataframe tbody tr th:only-of-type {\n",
       "        vertical-align: middle;\n",
       "    }\n",
       "\n",
       "    .dataframe tbody tr th {\n",
       "        vertical-align: top;\n",
       "    }\n",
       "\n",
       "    .dataframe thead th {\n",
       "        text-align: right;\n",
       "    }\n",
       "</style>\n",
       "<table border=\"1\" class=\"dataframe\">\n",
       "  <thead>\n",
       "    <tr style=\"text-align: right;\">\n",
       "      <th></th>\n",
       "      <th>TV</th>\n",
       "      <th>newspaper</th>\n",
       "      <th>radio</th>\n",
       "    </tr>\n",
       "  </thead>\n",
       "  <tbody>\n",
       "    <tr>\n",
       "      <th>95</th>\n",
       "      <td>163.3</td>\n",
       "      <td>52.9</td>\n",
       "      <td>31.6</td>\n",
       "    </tr>\n",
       "    <tr>\n",
       "      <th>15</th>\n",
       "      <td>195.4</td>\n",
       "      <td>52.9</td>\n",
       "      <td>47.7</td>\n",
       "    </tr>\n",
       "    <tr>\n",
       "      <th>30</th>\n",
       "      <td>292.9</td>\n",
       "      <td>43.2</td>\n",
       "      <td>28.3</td>\n",
       "    </tr>\n",
       "    <tr>\n",
       "      <th>158</th>\n",
       "      <td>11.7</td>\n",
       "      <td>45.2</td>\n",
       "      <td>36.9</td>\n",
       "    </tr>\n",
       "    <tr>\n",
       "      <th>128</th>\n",
       "      <td>220.3</td>\n",
       "      <td>3.2</td>\n",
       "      <td>49.0</td>\n",
       "    </tr>\n",
       "  </tbody>\n",
       "</table>\n",
       "</div>"
      ],
      "text/plain": [
       "        TV  newspaper  radio\n",
       "95   163.3       52.9   31.6\n",
       "15   195.4       52.9   47.7\n",
       "30   292.9       43.2   28.3\n",
       "158   11.7       45.2   36.9\n",
       "128  220.3        3.2   49.0"
      ]
     },
     "execution_count": 81,
     "metadata": {},
     "output_type": "execute_result"
    }
   ],
   "source": [
    "Xm_test.head()"
   ]
  },
  {
   "cell_type": "code",
   "execution_count": 82,
   "id": "93847707",
   "metadata": {},
   "outputs": [
    {
     "data": {
      "text/plain": [
       "169    15.0\n",
       "97     15.5\n",
       "31     11.9\n",
       "12      9.2\n",
       "35     12.8\n",
       "Name: sales, dtype: float64"
      ]
     },
     "execution_count": 82,
     "metadata": {},
     "output_type": "execute_result"
    }
   ],
   "source": [
    "ym_train.head()"
   ]
  },
  {
   "cell_type": "code",
   "execution_count": 83,
   "id": "14bc59f4",
   "metadata": {},
   "outputs": [
    {
     "data": {
      "text/plain": [
       "95     16.9\n",
       "15     22.4\n",
       "30     21.4\n",
       "158     7.3\n",
       "128    24.7\n",
       "Name: sales, dtype: float64"
      ]
     },
     "execution_count": 83,
     "metadata": {},
     "output_type": "execute_result"
    }
   ],
   "source": [
    "ym_test.head()"
   ]
  },
  {
   "cell_type": "code",
   "execution_count": 84,
   "id": "806945c4",
   "metadata": {},
   "outputs": [
    {
     "data": {
      "text/plain": [
       "LinearRegression()"
      ]
     },
     "execution_count": 84,
     "metadata": {},
     "output_type": "execute_result"
    }
   ],
   "source": [
    "lm.fit(Xm_train,ym_train)"
   ]
  },
  {
   "cell_type": "code",
   "execution_count": 85,
   "id": "b7a9811b",
   "metadata": {},
   "outputs": [
    {
     "data": {
      "text/plain": [
       "array([16.5653963 , 21.18822792, 21.55107058, 10.88923816, 22.20231988,\n",
       "       13.35556872, 21.19692502,  7.35028523, 13.27547079, 15.12449511,\n",
       "        9.01443026,  6.52542825, 14.30205991,  8.97026042,  9.45679576,\n",
       "       12.00454351,  8.91549403, 16.15619251, 10.29582883, 18.72473553,\n",
       "       19.76821818, 13.77469028, 12.49638908, 21.53501762,  7.60860741,\n",
       "        5.6119801 , 20.91759483, 11.80627665,  9.08076637,  8.51412012,\n",
       "       12.17604891,  9.9691939 , 21.73008956, 12.77770578, 18.1011362 ,\n",
       "       20.07590796, 14.26202556, 20.93826535, 10.83938827,  4.38190607,\n",
       "        9.51332406, 12.40486324, 10.17045434,  8.09081363, 13.16388427,\n",
       "        5.2243552 ,  9.28893833, 14.09330719,  8.69024497, 11.66119763,\n",
       "       15.71848432, 11.63156862, 13.35360735, 11.1531472 ,  6.33636845,\n",
       "        9.76157954,  9.4195714 , 24.25516546,  7.69519137, 12.15317572])"
      ]
     },
     "execution_count": 85,
     "metadata": {},
     "output_type": "execute_result"
    }
   ],
   "source": [
    "ym_pred = lm.predict(Xm_test)\n",
    "ym_pred"
   ]
  },
  {
   "cell_type": "code",
   "execution_count": 88,
   "id": "ba79e821",
   "metadata": {},
   "outputs": [
    {
     "data": {
      "text/plain": [
       "Text(0.5, 0, 'newspaper')"
      ]
     },
     "execution_count": 88,
     "metadata": {},
     "output_type": "execute_result"
    },
    {
     "data": {
      "image/png": "[encoded data removed]",
      "text/plain": [
       "<Figure size 1000x800 with 1 Axes>"
      ]
     },
     "metadata": {},
     "output_type": "display_data"
    }
   ],
   "source": [
    "from mpl_toolkits.mplot3d import Axes3D\n",
    "\n",
    "fig = plt.figure(figsize=(10,8))\n",
    "ax = fig.add_subplot(111, projection='3d')\n",
    "ax.scatter(Xm['TV'],Xm['newspaper'],Xm['radio'],  c='blue', marker='o')\n",
    "\n",
    "ax.set_xlabel('TV')\n",
    "ax.set_ylabel('radio')\n",
    "ax.set_zlabel('newspaper')"
   ]
  },
  {
   "cell_type": "code",
   "execution_count": null,
   "id": "de8e8382",
   "metadata": {},
   "outputs": [],
   "source": []
  }
 ],
 "metadata": {
  "kernelspec": {
   "display_name": "Python 3 (ipykernel)",
   "language": "python",
   "name": "python3"
  },
  "language_info": {
   "codemirror_mode": {
    "name": "ipython",
    "version": 3
   },
   "file_extension": ".py",
   "mimetype": "text/x-python",
   "name": "python",
   "nbconvert_exporter": "python",
   "pygments_lexer": "ipython3",
   "version": "3.9.13"
  }
 },
 "nbformat": 4,
 "nbformat_minor": 5
}
